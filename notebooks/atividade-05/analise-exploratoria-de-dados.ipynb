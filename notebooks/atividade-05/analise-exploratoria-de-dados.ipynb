{
 "cells": [
  {
   "cell_type": "markdown",
   "metadata": {},
   "source": [
    "# Análise exploratória de dados"
   ]
  },
  {
   "cell_type": "code",
   "execution_count": 1,
   "metadata": {},
   "outputs": [],
   "source": [
    "import pandas as pd\n",
    "import seaborn as sns\n",
    "from matplotlib import pyplot as plt"
   ]
  },
  {
   "cell_type": "code",
   "execution_count": 2,
   "metadata": {},
   "outputs": [],
   "source": [
    "#Carregando o conjunto de dados\n",
    "df=pd.read_csv('Forbes Richest Atheletes (Forbes Richest Athletes 1990-2020).csv')"
   ]
  },
  {
   "cell_type": "markdown",
   "metadata": {},
   "source": [
    "## 1. Descrição dos dados"
   ]
  },
  {
   "cell_type": "code",
   "execution_count": 25,
   "metadata": {},
   "outputs": [
    {
     "data": {
      "text/html": [
       "<div>\n",
       "<style scoped>\n",
       "    .dataframe tbody tr th:only-of-type {\n",
       "        vertical-align: middle;\n",
       "    }\n",
       "\n",
       "    .dataframe tbody tr th {\n",
       "        vertical-align: top;\n",
       "    }\n",
       "\n",
       "    .dataframe thead th {\n",
       "        text-align: right;\n",
       "    }\n",
       "</style>\n",
       "<table border=\"1\" class=\"dataframe\">\n",
       "  <thead>\n",
       "    <tr style=\"text-align: right;\">\n",
       "      <th></th>\n",
       "      <th>S.NO</th>\n",
       "      <th>Name</th>\n",
       "      <th>Nationality</th>\n",
       "      <th>Current Rank</th>\n",
       "      <th>Previous Year Rank</th>\n",
       "      <th>Sport</th>\n",
       "      <th>Year</th>\n",
       "      <th>earnings</th>\n",
       "    </tr>\n",
       "  </thead>\n",
       "  <tbody>\n",
       "    <tr>\n",
       "      <th>241</th>\n",
       "      <td>242</td>\n",
       "      <td>Floyd Mayweather</td>\n",
       "      <td>USA</td>\n",
       "      <td>1</td>\n",
       "      <td>1</td>\n",
       "      <td>Boxing</td>\n",
       "      <td>2015</td>\n",
       "      <td>300.0</td>\n",
       "    </tr>\n",
       "    <tr>\n",
       "      <th>271</th>\n",
       "      <td>272</td>\n",
       "      <td>Floyd Mayweather</td>\n",
       "      <td>USA</td>\n",
       "      <td>1</td>\n",
       "      <td>&gt;100</td>\n",
       "      <td>Boxing</td>\n",
       "      <td>2018</td>\n",
       "      <td>285.0</td>\n",
       "    </tr>\n",
       "    <tr>\n",
       "      <th>242</th>\n",
       "      <td>243</td>\n",
       "      <td>Manny Pacquiao</td>\n",
       "      <td>Philippines</td>\n",
       "      <td>2</td>\n",
       "      <td>11</td>\n",
       "      <td>Boxing</td>\n",
       "      <td>2015</td>\n",
       "      <td>160.0</td>\n",
       "    </tr>\n",
       "    <tr>\n",
       "      <th>281</th>\n",
       "      <td>282</td>\n",
       "      <td>Lionel Messi</td>\n",
       "      <td>Argentina</td>\n",
       "      <td>1</td>\n",
       "      <td>2</td>\n",
       "      <td>Soccer</td>\n",
       "      <td>2019</td>\n",
       "      <td>127.0</td>\n",
       "    </tr>\n",
       "    <tr>\n",
       "      <th>171</th>\n",
       "      <td>172</td>\n",
       "      <td>Tiger Woods</td>\n",
       "      <td>USA</td>\n",
       "      <td>1</td>\n",
       "      <td>1</td>\n",
       "      <td>golf</td>\n",
       "      <td>2008</td>\n",
       "      <td>115.0</td>\n",
       "    </tr>\n",
       "    <tr>\n",
       "      <th>272</th>\n",
       "      <td>273</td>\n",
       "      <td>Lionel Messi</td>\n",
       "      <td>Argentina</td>\n",
       "      <td>2</td>\n",
       "      <td>3</td>\n",
       "      <td>Soccer</td>\n",
       "      <td>2018</td>\n",
       "      <td>111.0</td>\n",
       "    </tr>\n",
       "    <tr>\n",
       "      <th>181</th>\n",
       "      <td>182</td>\n",
       "      <td>Tiger Woods</td>\n",
       "      <td>USA</td>\n",
       "      <td>1</td>\n",
       "      <td>1</td>\n",
       "      <td>golf</td>\n",
       "      <td>2009</td>\n",
       "      <td>110.0</td>\n",
       "    </tr>\n",
       "    <tr>\n",
       "      <th>282</th>\n",
       "      <td>283</td>\n",
       "      <td>Cristiano Ronaldo</td>\n",
       "      <td>Portugal</td>\n",
       "      <td>2</td>\n",
       "      <td>3</td>\n",
       "      <td>Soccer</td>\n",
       "      <td>2019</td>\n",
       "      <td>109.0</td>\n",
       "    </tr>\n",
       "    <tr>\n",
       "      <th>273</th>\n",
       "      <td>274</td>\n",
       "      <td>Cristiano Ronaldo</td>\n",
       "      <td>Portugal</td>\n",
       "      <td>3</td>\n",
       "      <td>1</td>\n",
       "      <td>Soccer</td>\n",
       "      <td>2018</td>\n",
       "      <td>108.0</td>\n",
       "    </tr>\n",
       "    <tr>\n",
       "      <th>291</th>\n",
       "      <td>292</td>\n",
       "      <td>Roger Federer</td>\n",
       "      <td>Switzerland</td>\n",
       "      <td>1</td>\n",
       "      <td>5</td>\n",
       "      <td>Tennis</td>\n",
       "      <td>2020</td>\n",
       "      <td>106.3</td>\n",
       "    </tr>\n",
       "    <tr>\n",
       "      <th>191</th>\n",
       "      <td>192</td>\n",
       "      <td>Tiger Woods</td>\n",
       "      <td>USA</td>\n",
       "      <td>1</td>\n",
       "      <td>1</td>\n",
       "      <td>golf</td>\n",
       "      <td>2010</td>\n",
       "      <td>105.0</td>\n",
       "    </tr>\n",
       "    <tr>\n",
       "      <th>231</th>\n",
       "      <td>232</td>\n",
       "      <td>Floyd Mayweather</td>\n",
       "      <td>USA</td>\n",
       "      <td>1</td>\n",
       "      <td>14</td>\n",
       "      <td>Boxing</td>\n",
       "      <td>2014</td>\n",
       "      <td>105.0</td>\n",
       "    </tr>\n",
       "    <tr>\n",
       "      <th>292</th>\n",
       "      <td>293</td>\n",
       "      <td>Cristiano Ronaldo</td>\n",
       "      <td>Portugal</td>\n",
       "      <td>2</td>\n",
       "      <td>2</td>\n",
       "      <td>Soccer</td>\n",
       "      <td>2020</td>\n",
       "      <td>105.0</td>\n",
       "    </tr>\n",
       "    <tr>\n",
       "      <th>283</th>\n",
       "      <td>284</td>\n",
       "      <td>Neymar</td>\n",
       "      <td>Brazil</td>\n",
       "      <td>3</td>\n",
       "      <td>5</td>\n",
       "      <td>Soccer</td>\n",
       "      <td>2019</td>\n",
       "      <td>105.0</td>\n",
       "    </tr>\n",
       "    <tr>\n",
       "      <th>293</th>\n",
       "      <td>294</td>\n",
       "      <td>Lionel Messi</td>\n",
       "      <td>Argentina</td>\n",
       "      <td>3</td>\n",
       "      <td>1</td>\n",
       "      <td>Soccer</td>\n",
       "      <td>2020</td>\n",
       "      <td>104.0</td>\n",
       "    </tr>\n",
       "    <tr>\n",
       "      <th>161</th>\n",
       "      <td>162</td>\n",
       "      <td>Tiger Woods</td>\n",
       "      <td>USA</td>\n",
       "      <td>1</td>\n",
       "      <td>1</td>\n",
       "      <td>golf</td>\n",
       "      <td>2007</td>\n",
       "      <td>100.0</td>\n",
       "    </tr>\n",
       "    <tr>\n",
       "      <th>274</th>\n",
       "      <td>275</td>\n",
       "      <td>Conor McGregor</td>\n",
       "      <td>Ireland</td>\n",
       "      <td>4</td>\n",
       "      <td>24</td>\n",
       "      <td>MMA</td>\n",
       "      <td>2018</td>\n",
       "      <td>99.0</td>\n",
       "    </tr>\n",
       "    <tr>\n",
       "      <th>294</th>\n",
       "      <td>295</td>\n",
       "      <td>Neymar</td>\n",
       "      <td>Brazil</td>\n",
       "      <td>4</td>\n",
       "      <td>3</td>\n",
       "      <td>Soccer</td>\n",
       "      <td>2020</td>\n",
       "      <td>95.5</td>\n",
       "    </tr>\n",
       "    <tr>\n",
       "      <th>284</th>\n",
       "      <td>285</td>\n",
       "      <td>Canelo Alvarez</td>\n",
       "      <td>Mexico</td>\n",
       "      <td>4</td>\n",
       "      <td>15</td>\n",
       "      <td>Boxing</td>\n",
       "      <td>2019</td>\n",
       "      <td>94.0</td>\n",
       "    </tr>\n",
       "    <tr>\n",
       "      <th>285</th>\n",
       "      <td>286</td>\n",
       "      <td>Roger Federer</td>\n",
       "      <td>Switzerland</td>\n",
       "      <td>5</td>\n",
       "      <td>7</td>\n",
       "      <td>Tennis</td>\n",
       "      <td>2019</td>\n",
       "      <td>93.4</td>\n",
       "    </tr>\n",
       "    <tr>\n",
       "      <th>261</th>\n",
       "      <td>262</td>\n",
       "      <td>Cristiano Ronaldo</td>\n",
       "      <td>Portugal</td>\n",
       "      <td>1</td>\n",
       "      <td>1</td>\n",
       "      <td>Soccer</td>\n",
       "      <td>2017</td>\n",
       "      <td>93.0</td>\n",
       "    </tr>\n",
       "    <tr>\n",
       "      <th>151</th>\n",
       "      <td>152</td>\n",
       "      <td>Tiger Woods</td>\n",
       "      <td>USA</td>\n",
       "      <td>1</td>\n",
       "      <td>1</td>\n",
       "      <td>golf</td>\n",
       "      <td>2006</td>\n",
       "      <td>90.0</td>\n",
       "    </tr>\n",
       "    <tr>\n",
       "      <th>275</th>\n",
       "      <td>276</td>\n",
       "      <td>Neymar</td>\n",
       "      <td>Brazil</td>\n",
       "      <td>5</td>\n",
       "      <td>18</td>\n",
       "      <td>Soccer</td>\n",
       "      <td>2018</td>\n",
       "      <td>90.0</td>\n",
       "    </tr>\n",
       "    <tr>\n",
       "      <th>286</th>\n",
       "      <td>287</td>\n",
       "      <td>Russell Wilson</td>\n",
       "      <td>USA</td>\n",
       "      <td>6</td>\n",
       "      <td>??</td>\n",
       "      <td>American Football</td>\n",
       "      <td>2019</td>\n",
       "      <td>89.5</td>\n",
       "    </tr>\n",
       "    <tr>\n",
       "      <th>287</th>\n",
       "      <td>288</td>\n",
       "      <td>Aaron Rogers</td>\n",
       "      <td>USA</td>\n",
       "      <td>7</td>\n",
       "      <td>??</td>\n",
       "      <td>American Football</td>\n",
       "      <td>2019</td>\n",
       "      <td>89.3</td>\n",
       "    </tr>\n",
       "    <tr>\n",
       "      <th>288</th>\n",
       "      <td>289</td>\n",
       "      <td>LeBron James</td>\n",
       "      <td>USA</td>\n",
       "      <td>8</td>\n",
       "      <td>6</td>\n",
       "      <td>Basketball</td>\n",
       "      <td>2019</td>\n",
       "      <td>89.0</td>\n",
       "    </tr>\n",
       "    <tr>\n",
       "      <th>295</th>\n",
       "      <td>296</td>\n",
       "      <td>LeBron James</td>\n",
       "      <td>USA</td>\n",
       "      <td>5</td>\n",
       "      <td>8</td>\n",
       "      <td>Basketball</td>\n",
       "      <td>2020</td>\n",
       "      <td>88.2</td>\n",
       "    </tr>\n",
       "    <tr>\n",
       "      <th>251</th>\n",
       "      <td>252</td>\n",
       "      <td>Cristiano Ronaldo</td>\n",
       "      <td>Portugal</td>\n",
       "      <td>1</td>\n",
       "      <td>3</td>\n",
       "      <td>Soccer</td>\n",
       "      <td>2016</td>\n",
       "      <td>88.0</td>\n",
       "    </tr>\n",
       "    <tr>\n",
       "      <th>141</th>\n",
       "      <td>142</td>\n",
       "      <td>Tiger Woods</td>\n",
       "      <td>USA</td>\n",
       "      <td>1</td>\n",
       "      <td>1</td>\n",
       "      <td>golf</td>\n",
       "      <td>2005</td>\n",
       "      <td>87.0</td>\n",
       "    </tr>\n",
       "    <tr>\n",
       "      <th>262</th>\n",
       "      <td>263</td>\n",
       "      <td>LeBron James</td>\n",
       "      <td>USA</td>\n",
       "      <td>2</td>\n",
       "      <td>3</td>\n",
       "      <td>Basketball</td>\n",
       "      <td>2017</td>\n",
       "      <td>86.2</td>\n",
       "    </tr>\n",
       "  </tbody>\n",
       "</table>\n",
       "</div>"
      ],
      "text/plain": [
       "     S.NO               Name  Nationality  Current Rank Previous Year Rank  \\\n",
       "241   242   Floyd Mayweather          USA             1                  1   \n",
       "271   272   Floyd Mayweather          USA             1               >100   \n",
       "242   243     Manny Pacquiao  Philippines             2                 11   \n",
       "281   282       Lionel Messi    Argentina             1                  2   \n",
       "171   172        Tiger Woods          USA             1                  1   \n",
       "272   273       Lionel Messi    Argentina             2                  3   \n",
       "181   182        Tiger Woods          USA             1                  1   \n",
       "282   283  Cristiano Ronaldo     Portugal             2                  3   \n",
       "273   274  Cristiano Ronaldo     Portugal             3                  1   \n",
       "291   292      Roger Federer  Switzerland             1                  5   \n",
       "191   192        Tiger Woods          USA             1                  1   \n",
       "231   232   Floyd Mayweather          USA             1                 14   \n",
       "292   293  Cristiano Ronaldo     Portugal             2                  2   \n",
       "283   284             Neymar       Brazil             3                  5   \n",
       "293   294       Lionel Messi    Argentina             3                  1   \n",
       "161   162        Tiger Woods          USA             1                  1   \n",
       "274   275     Conor McGregor      Ireland             4                 24   \n",
       "294   295             Neymar       Brazil             4                  3   \n",
       "284   285     Canelo Alvarez       Mexico             4                 15   \n",
       "285   286      Roger Federer  Switzerland             5                  7   \n",
       "261   262  Cristiano Ronaldo     Portugal             1                  1   \n",
       "151   152        Tiger Woods          USA             1                  1   \n",
       "275   276             Neymar       Brazil             5                 18   \n",
       "286   287     Russell Wilson          USA             6                 ??   \n",
       "287   288       Aaron Rogers          USA             7                 ??   \n",
       "288   289       LeBron James          USA             8                  6   \n",
       "295   296       LeBron James          USA             5                  8   \n",
       "251   252  Cristiano Ronaldo     Portugal             1                  3   \n",
       "141   142        Tiger Woods          USA             1                  1   \n",
       "262   263       LeBron James          USA             2                  3   \n",
       "\n",
       "                 Sport  Year  earnings  \n",
       "241             Boxing  2015     300.0  \n",
       "271             Boxing  2018     285.0  \n",
       "242             Boxing  2015     160.0  \n",
       "281             Soccer  2019     127.0  \n",
       "171               golf  2008     115.0  \n",
       "272             Soccer  2018     111.0  \n",
       "181               golf  2009     110.0  \n",
       "282             Soccer  2019     109.0  \n",
       "273             Soccer  2018     108.0  \n",
       "291             Tennis  2020     106.3  \n",
       "191               golf  2010     105.0  \n",
       "231             Boxing  2014     105.0  \n",
       "292             Soccer  2020     105.0  \n",
       "283             Soccer  2019     105.0  \n",
       "293             Soccer  2020     104.0  \n",
       "161               golf  2007     100.0  \n",
       "274                MMA  2018      99.0  \n",
       "294             Soccer  2020      95.5  \n",
       "284             Boxing  2019      94.0  \n",
       "285             Tennis  2019      93.4  \n",
       "261             Soccer  2017      93.0  \n",
       "151               golf  2006      90.0  \n",
       "275             Soccer  2018      90.0  \n",
       "286  American Football  2019      89.5  \n",
       "287  American Football  2019      89.3  \n",
       "288         Basketball  2019      89.0  \n",
       "295         Basketball  2020      88.2  \n",
       "251             Soccer  2016      88.0  \n",
       "141               golf  2005      87.0  \n",
       "262         Basketball  2017      86.2  "
      ]
     },
     "execution_count": 25,
     "metadata": {},
     "output_type": "execute_result"
    }
   ],
   "source": [
    "#o comando baixo nos fornece informações de quantas linhas e colunas é composto o conjunto de dados\n",
    "df.head(30)"
   ]
  },
  {
   "cell_type": "code",
   "execution_count": 88,
   "metadata": {},
   "outputs": [],
   "source": [
    "#df.Sport.replace('boxing', 'Boxing', regex = True, inplace=True)"
   ]
  },
  {
   "cell_type": "code",
   "execution_count": 4,
   "metadata": {},
   "outputs": [
    {
     "data": {
      "text/plain": [
       "(301, 8)"
      ]
     },
     "execution_count": 4,
     "metadata": {},
     "output_type": "execute_result"
    }
   ],
   "source": [
    "df.shape"
   ]
  },
  {
   "cell_type": "code",
   "execution_count": 5,
   "metadata": {},
   "outputs": [
    {
     "name": "stdout",
     "output_type": "stream",
     "text": [
      "<class 'pandas.core.frame.DataFrame'>\n",
      "RangeIndex: 301 entries, 0 to 300\n",
      "Data columns (total 8 columns):\n",
      " #   Column                Non-Null Count  Dtype  \n",
      "---  ------                --------------  -----  \n",
      " 0   S.NO                  301 non-null    int64  \n",
      " 1   Name                  301 non-null    object \n",
      " 2   Nationality           301 non-null    object \n",
      " 3   Current Rank          301 non-null    int64  \n",
      " 4   Previous Year Rank    277 non-null    object \n",
      " 5   Sport                 301 non-null    object \n",
      " 6   Year                  301 non-null    int64  \n",
      " 7   earnings ($ million)  301 non-null    float64\n",
      "dtypes: float64(1), int64(3), object(4)\n",
      "memory usage: 18.9+ KB\n"
     ]
    }
   ],
   "source": [
    "#o comando info fornece informações mais completas do que o comando anterior.\n",
    "#como o nome de cada coluna, tipo de dado e se há presença de dados faltantes.\n",
    "df.info()"
   ]
  },
  {
   "cell_type": "markdown",
   "metadata": {},
   "source": [
    "### Nesse conjunto de dados há 24 de dados faltantes em \"Previous Year Rank\" como podemos observar com as informações extraídas do comando acima."
   ]
  },
  {
   "cell_type": "code",
   "execution_count": 6,
   "metadata": {},
   "outputs": [
    {
     "data": {
      "text/plain": [
       "S.NO                     0\n",
       "Name                     0\n",
       "Nationality              0\n",
       "Current Rank             0\n",
       "Previous Year Rank      24\n",
       "Sport                    0\n",
       "Year                     0\n",
       "earnings ($ million)     0\n",
       "dtype: int64"
      ]
     },
     "execution_count": 6,
     "metadata": {},
     "output_type": "execute_result"
    }
   ],
   "source": [
    "#outra forma de verificamos também se há dados faltantes é utilizar o comando abaixo, que contará se há caracteristicas com campo nulo\n",
    "df.isnull().sum()"
   ]
  },
  {
   "cell_type": "code",
   "execution_count": null,
   "metadata": {},
   "outputs": [],
   "source": []
  },
  {
   "cell_type": "markdown",
   "metadata": {},
   "source": [
    "#o comando describe() obtemos mais informações sobre o conjunto de dados com realação a média,\n",
    "#desvio padrão, os valores dos quartis (Q1, Q2 - mediana, Q3) e os valores de máximo e mínimo.\n",
    "df.describe()"
   ]
  },
  {
   "cell_type": "code",
   "execution_count": 8,
   "metadata": {},
   "outputs": [],
   "source": [
    "#renomeando a coluna earnings ($ million) para earnings\n",
    "df.rename(columns={'earnings ($ million)': 'earnings'}, inplace=True)"
   ]
  },
  {
   "cell_type": "markdown",
   "metadata": {},
   "source": [
    "# Gráfico em barras"
   ]
  },
  {
   "cell_type": "code",
   "execution_count": 9,
   "metadata": {},
   "outputs": [
    {
     "data": {
      "image/png": "[encoded data removed]",
      "text/plain": [
       "<Figure size 936x936 with 1 Axes>"
      ]
     },
     "metadata": {
      "needs_background": "light"
     },
     "output_type": "display_data"
    }
   ],
   "source": [
    "#ordenar as barras\n",
    "df = df.sort_values(by='earnings', ascending=False)\n",
    "\n",
    "#utilizar linhas verticais\n",
    "sns.set_style(\"whitegrid\")\n",
    "\n",
    "#utilize as mesmas cores para barras\n",
    "plt.figure(figsize=(13, 13))\n",
    "ax = sns.barplot(data=df, x='earnings', y='Sport', color='tomato',ci=None)\n",
    "\n",
    "#adicionar valores as barras\n",
    "ax.bar_label(\n",
    "    ax.containers[0],\n",
    "    fmt='%.1f',\n",
    "    label_type='center',\n",
    "    color='white'\n",
    ")\n",
    "\n",
    "#labels mais descritivos para melhorar a visualização \n",
    "plt.xlabel('Ganhos (Milhões de dólares)')\n",
    "plt.ylabel('Esporte')\n",
    "plt.title('Ganhos por esporte')\n",
    "\n",
    "#adicionar uma linhas vertical na origem e remover as bordas\n",
    "ax.set(frame_on=False)\n",
    "ax.axvline(0, color=\"k\", clip_on=False)\n",
    "plt.show()\n"
   ]
  },
  {
   "cell_type": "markdown",
   "metadata": {},
   "source": [
    "### Dúvida: Por qual motivo as barras não ficaram em ordem? Por exemplo, por que MMA não ficou no topo"
   ]
  },
  {
   "cell_type": "markdown",
   "metadata": {},
   "source": [
    "# Gráfico histograma "
   ]
  },
  {
   "cell_type": "code",
   "execution_count": 24,
   "metadata": {},
   "outputs": [
    {
     "data": {
      "image/png": "[encoded data removed]",
      "text/plain": [
       "<Figure size 720x720 with 1 Axes>"
      ]
     },
     "metadata": {},
     "output_type": "display_data"
    }
   ],
   "source": [
    "#utilizar linhas verticas e horizontais\n",
    "sns.set_style(\"whitegrid\")\n",
    "plt.figure(figsize=(10, 10))\n",
    "#melhorar os labels dos eixos\n",
    "ax = sns.histplot(data=df, x='earnings')\n",
    "plt.ylabel('Quantidade')\n",
    "plt.xlabel('Ganhos (Milhões de dólares)')\n",
    "\n",
    "#adicionar linha a origem e remover as bordas\n",
    "ax.set(frame_on=False)\n",
    "ax.axhline(0, color=\"k\", clip_on=False)\n",
    "plt.show()"
   ]
  },
  {
   "cell_type": "markdown",
   "metadata": {},
   "source": [
    "# Gráfico boxplot"
   ]
  },
  {
   "cell_type": "code",
   "execution_count": 44,
   "metadata": {},
   "outputs": [
    {
     "data": {
      "image/png": "[encoded data removed]",
      "text/plain": [
       "<Figure size 360x504 with 1 Axes>"
      ]
     },
     "metadata": {},
     "output_type": "display_data"
    }
   ],
   "source": [
    "\n",
    "sns.set_style(\"whitegrid\")\n",
    "#utilizar a mesma cor para as barras\n",
    "plt.figure(figsize=(5, 7))\n",
    "#removendo as bordas\n",
    "ax = sns.boxplot(y=\"earnings\", data=df, color='cornflowerblue',width=0.2,\n",
    "            linewidth=1.0).set(frame_on=False)\n",
    "\n",
    "#melhorar o titulo e os labels dos eixos\n",
    "plt.ylabel('Ganhos (Milhões de dólares')\n",
    "plt.title('Ganhos dos atletas')\n",
    "plt.show()"
   ]
  },
  {
   "cell_type": "markdown",
   "metadata": {},
   "source": [
    "## 2. Perguntas de partida e hipóteses"
   ]
  },
  {
   "cell_type": "markdown",
   "metadata": {},
   "source": [
    "Não consegui pensar em algo :("
   ]
  },
  {
   "cell_type": "markdown",
   "metadata": {},
   "source": [
    "## 3.Insights"
   ]
  },
  {
   "cell_type": "markdown",
   "metadata": {},
   "source": [
    "Há uma variação salarial bem alta com atletas que recebem de 8,1 a 301 (milhoes de d), mas com media de U$ 45.51 (milhoes).\n",
    "Pelos os gráficos de histograma e boxplot observamos os outliers com ganhos acima dos 100 milhões de dolares."
   ]
  },
  {
   "cell_type": "code",
   "execution_count": null,
   "metadata": {},
   "outputs": [],
   "source": []
  }
 ],
 "metadata": {
  "kernelspec": {
   "display_name": "Python 3 (ipykernel)",
   "language": "python",
   "name": "python3"
  },
  "language_info": {
   "codemirror_mode": {
    "name": "ipython",
    "version": 3
   },
   "file_extension": ".py",
   "mimetype": "text/x-python",
   "name": "python",
   "nbconvert_exporter": "python",
   "pygments_lexer": "ipython3",
   "version": "3.8.10"
  },
  "vscode": {
   "interpreter": {
    "hash": "eb3c3305d8b111f0102f4f519c5f17abd113fe74db6752c355e994a9008815ef"
   }
  }
 },
 "nbformat": 4,
 "nbformat_minor": 4
}
